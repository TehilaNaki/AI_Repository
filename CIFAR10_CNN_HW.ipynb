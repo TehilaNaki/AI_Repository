{
  "nbformat": 4,
  "nbformat_minor": 0,
  "metadata": {
    "kernelspec": {
      "display_name": "Python 3",
      "language": "python",
      "name": "python3"
    },
    "language_info": {
      "codemirror_mode": {
        "name": "ipython",
        "version": 3
      },
      "file_extension": ".py",
      "mimetype": "text/x-python",
      "name": "python",
      "nbconvert_exporter": "python",
      "pygments_lexer": "ipython3",
      "version": "3.5.2"
    },
    "colab": {
      "provenance": [],
      "private_outputs": true,
      "include_colab_link": true
    },
    "accelerator": "GPU"
  },
  "cells": [
    {
      "cell_type": "markdown",
      "metadata": {
        "id": "view-in-github",
        "colab_type": "text"
      },
      "source": [
        "<a href=\"https://colab.research.google.com/github/TehilaNaki/AI_Repository/blob/main/CIFAR10_CNN_HW.ipynb\" target=\"_parent\"><img src=\"https://colab.research.google.com/assets/colab-badge.svg\" alt=\"Open In Colab\"/></a>"
      ]
    },
    {
      "cell_type": "markdown",
      "metadata": {
        "id": "bIxsHxttP2k5"
      },
      "source": [
        "## Building a CNN to classify images in the CIFAR-10 Dataset\n",
        "\n",
        "We will work with the CIFAR-10 Dataset.  This is a well-known dataset for image classification, which consists of 60000 32x32 color images in 10 classes, with 6000 images per class. There are 50000 training images and 10000 test images.\n",
        "\n",
        "The 10 classes are:\n",
        "\n",
        "<ol start=\"0\">\n",
        "<li> airplane\n",
        "<li>  automobile\n",
        "<li> bird\n",
        "<li>  cat\n",
        "<li> deer\n",
        "<li> dog\n",
        "<li>  frog\n",
        "<li>  horse\n",
        "<li>  ship\n",
        "<li>  truck\n",
        "</ol>\n",
        "\n",
        "For details about CIFAR-10 see:\n",
        "https://www.cs.toronto.edu/~kriz/cifar.html\n",
        "\n",
        "For a compilation of published performance results on CIFAR 10, see:\n",
        "http://rodrigob.github.io/are_we_there_yet/build/classification_datasets_results.html\n",
        "\n",
        "---\n",
        "\n",
        "### Building Convolutional Neural Nets\n",
        "\n",
        "In this exercise we will build and train our first convolutional neural networks.  In the first part, we walk through the different layers and how they are configured.  In the second part, you will build your own model, train it, and compare the performance.\n",
        "\n",
        "Much of this code is from Intel's course at: https://software.intel.com/content/dam/develop/public/us/en/downloads/intel-dl101-class6.zip, but I added some tweaks of my own ;)"
      ]
    },
    {
      "cell_type": "code",
      "metadata": {
        "id": "eQC8thNfP2k_"
      },
      "source": [
        "from __future__ import print_function\n",
        "import keras\n",
        "from keras.datasets import cifar10\n",
        "from keras.preprocessing.image import ImageDataGenerator\n",
        "from keras.models import Sequential\n",
        "from keras.layers import Dense, Dropout, Activation, Flatten\n",
        "from keras.layers import Conv2D, MaxPooling2D\n",
        "from tensorflow.keras.optimizers import Adam, SGD, RMSprop\n",
        "from tensorflow.keras import layers\n",
        "\n",
        "import matplotlib.pyplot as plt\n",
        "%matplotlib inline"
      ],
      "execution_count": null,
      "outputs": []
    },
    {
      "cell_type": "code",
      "metadata": {
        "id": "wfQekVzZP2lA"
      },
      "source": [
        "# The data, shuffled and split between train and test sets:\n",
        "(x_train, y_train), (x_test, y_test) = cifar10.load_data()\n",
        "print('x_train shape:', x_train.shape)\n",
        "print(x_train.shape[0], 'train samples')\n",
        "print(x_test.shape[0], 'test samples')"
      ],
      "execution_count": null,
      "outputs": []
    },
    {
      "cell_type": "code",
      "metadata": {
        "id": "Nc4W3uKIP2lA"
      },
      "source": [
        "## Each image is a 32 x 32 x 3 numpy array\n",
        "x_train[444].shape"
      ],
      "execution_count": null,
      "outputs": []
    },
    {
      "cell_type": "markdown",
      "metadata": {
        "id": "P2OIsQqOnKAN"
      },
      "source": [
        "Notice that this time the pictures have color (RGB color with 3 channels)."
      ]
    },
    {
      "cell_type": "code",
      "metadata": {
        "id": "ePODxy5uP2lA"
      },
      "source": [
        "## Let's look at one of the images\n",
        "\n",
        "print(y_train[442])\n",
        "plt.imshow(x_train[442]);"
      ],
      "execution_count": null,
      "outputs": []
    },
    {
      "cell_type": "code",
      "metadata": {
        "collapsed": true,
        "id": "czYvqoRAP2lA"
      },
      "source": [
        "num_classes = 10\n",
        "print(y_train[442])\n",
        "y_train = keras.utils.np_utils.to_categorical(y_train, num_classes)\n",
        "y_test = keras.utils.np_utils.to_categorical(y_test, num_classes)"
      ],
      "execution_count": null,
      "outputs": []
    },
    {
      "cell_type": "code",
      "metadata": {
        "id": "srcBlBlVP2lB"
      },
      "source": [
        "# now instead of classes described by an integer between 0-9 we have a vector with a 1 in the (Pythonic) 9th position\n",
        "y_train[442]"
      ],
      "execution_count": null,
      "outputs": []
    },
    {
      "cell_type": "code",
      "metadata": {
        "collapsed": true,
        "id": "wSh-NIvhP2lB"
      },
      "source": [
        "# As before, let's make everything float and scale\n",
        "x_train = x_train.astype('float32')\n",
        "x_test = x_test.astype('float32')\n",
        "x_train /= 255\n",
        "x_test /= 255"
      ],
      "execution_count": null,
      "outputs": []
    },
    {
      "cell_type": "markdown",
      "metadata": {
        "id": "i8eluWt3P2lB"
      },
      "source": [
        "## Keras Layers for CNNs\n",
        "- Previously we built Neural Networks using primarily the Dense, Activation and Dropout Layers.\n",
        "\n",
        "- Here we will describe how to use some of the CNN-specific layers provided by Keras\n",
        "\n",
        "### Conv2D\n",
        "\n",
        "```python\n",
        "keras.layers.convolutional.Conv2D(filters, kernel_size, strides=(1, 1), padding='valid', data_format=None, dilation_rate=(1, 1), activation=None, use_bias=True, kernel_initializer='glorot_uniform', bias_initializer='zeros', kernel_regularizer=None, bias_regularizer=None, activity_regularizer=None, kernel_constraint=None, bias_constraint=None, **kwargs)\n",
        "```\n",
        "\n",
        "A few parameters explained:\n",
        "- `filters`: the number of filter used per location.  In other words, the depth of the output.\n",
        "- `kernel_size`: an (x,y) tuple giving the height and width of the kernel to be used\n",
        "- `strides`: and (x,y) tuple giving the stride in each dimension.  Default is `(1,1)`\n",
        "- `padding`: With \"SAME\" padding, if you use a stride of 1, the layer's outputs will have the same spatial dimensions as its inputs. (otherwise you will loose size due to the filter)\n",
        "- `input_shape`: required only for the first layer\n",
        "\n",
        "Note, the size of the output will be determined by the kernel_size, strides\n",
        "\n",
        "### MaxPooling2D\n",
        "`keras.layers.pooling.MaxPooling2D(pool_size=(2, 2), strides=None, padding='valid', data_format=None)`\n",
        "\n",
        "- `pool_size`: the (x,y) size of the grid to be pooled.\n",
        "- `strides`: Assumed to be the `pool_size` unless otherwise specified\n",
        "\n",
        "### Flatten\n",
        "Turns its input into a one-dimensional vector (per instance).  Usually used when transitioning between convolutional layers and fully connected layers.\n",
        "\n",
        "---\n",
        "\n",
        "## First CNN\n",
        "Below we will build our first CNN.  For demonstration purposes (so that it will train quickly) it is not very deep and has relatively few parameters.  We use strides of 2 in the first two convolutional layers which quickly reduces the dimensions of the output.  After a MaxPooling layer, we flatten, and then have a single fully connected layer before our final classification layer."
      ]
    },
    {
      "cell_type": "code",
      "metadata": {
        "id": "xd7SfmLsP2lC"
      },
      "source": [
        "# Let's build a CNN using Keras' Sequential capabilities\n",
        "\n",
        "model_1 = keras.Sequential(\n",
        "    [\n",
        "        keras.Input(shape=(32, 32, 3)),\n",
        "        keras.layers.Conv2D(32, kernel_size=(5, 5), strides = (2,2), padding='same', activation=\"relu\"),\n",
        "        keras.layers.Conv2D(32, kernel_size=(5, 5), strides = (2,2), padding='valid', activation=\"relu\"),\n",
        "        keras.layers.MaxPooling2D(pool_size=(2, 2)), \n",
        "        #keras.layers.Dropout(0.25),\n",
        "        keras.layers.Flatten(),\n",
        "        keras.layers.Dense((512), activation=\"relu\"),\n",
        "        keras.layers.Dropout(0.5),\n",
        "        keras.layers.Dense(num_classes, activation=\"softmax\"),\n",
        "    ]\n",
        ")"
      ],
      "execution_count": null,
      "outputs": []
    },
    {
      "cell_type": "code",
      "source": [
        "model_1.summary()"
      ],
      "metadata": {
        "id": "a1ziWTfZiPRq"
      },
      "execution_count": null,
      "outputs": []
    },
    {
      "cell_type": "markdown",
      "metadata": {
        "id": "hsjjm7nUP2lC"
      },
      "source": [
        "We still have 181K parameters, even though this is a \"small\" model.\n",
        "Note that the formula:\n",
        "\n",
        "output_width=(input_width-kernel_width)/stride+1 \n",
        "holds.  For example in the first layer, input_width=32, kernel_width=5 and stride = 2.  So:\n",
        "output_width=(32-5)/2 + 1 = 14 WITHOUT Padding.  But here padding = same, so output = 32/2 (due to stride)= 16. Without stride = 2 it would have been 32 had padding = same.\n",
        "\n",
        "weights=(previous_layer_num_features x kernel_width x kernel_height + b) x filters\n",
        "\n",
        "For example, in the first layer = (3X5X5+1)X32=2432"
      ]
    },
    {
      "cell_type": "code",
      "metadata": {
        "id": "TQJhSyUmP2lD"
      },
      "source": [
        "batch_size = 32\n",
        "num_epochs = 10\n",
        "\n",
        "# initiate Adam optimizer like in the first example\n",
        "model_1.compile(loss=\"categorical_crossentropy\", optimizer=\"adam\", metrics=[\"accuracy\"])\n",
        "# initiate RMSprop optimizer\n",
        "#opt = keras.optimizers.RMSprop(lr=0.0005, decay=0.00001)\n",
        "\n",
        "# Let's train the model using RMSprop\n",
        "#model_1.compile(loss='categorical_crossentropy',\n",
        "#              optimizer=opt,\n",
        "#              metrics=['accuracy'])\n",
        "\n",
        "model_1.fit(x_train, y_train,\n",
        "              batch_size=batch_size,\n",
        "              epochs=num_epochs,\n",
        "              validation_data=(x_test, y_test),\n",
        "              shuffle=True)"
      ],
      "execution_count": null,
      "outputs": []
    },
    {
      "cell_type": "markdown",
      "metadata": {
        "id": "dOy-IQMuU4l0"
      },
      "source": [
        "## Evaluate the trained model"
      ]
    },
    {
      "cell_type": "code",
      "metadata": {
        "id": "3Z8y3b2GU4l1"
      },
      "source": [
        "score = model_1.evaluate(x_test, y_test, verbose=0)\n",
        "print(\"Test loss:\", score[0])\n",
        "print(\"Test accuracy:\", score[1])"
      ],
      "execution_count": null,
      "outputs": []
    },
    {
      "cell_type": "markdown",
      "metadata": {
        "collapsed": true,
        "id": "jmOeUBmvP2lE"
      },
      "source": [
        "### Exercise\n",
        "There are many things we can change in CNNs:\n",
        "1. The batch size\n",
        "2. The parameters within a specific CNN layer such as if padding is used, the size (kernel size) and number of filters used, and stride size\n",
        "3. The Dropout rate (if any) that is used\n",
        "4. The CNN architecture including the number of layers and if and when to use MaxPool (AvgPool usually isn't used today).\n",
        "5. The optimizer used (and the learning rate in the optimizer)\n",
        "6. In theory which activation function, but in CNN's Relu is almost always used except for the last layer which is Softmax (which activation function is Softmax???)\n",
        "\n",
        "Questions: \n",
        "\n",
        "A. Build model_2 which checks the performance of batch sizes of 4, 128 and 1024.  Which one works best after 10 epochs?  Which one runs the fastest?\n",
        "\n",
        "B. Build model_3 which adds padding to all layers. Does that improve performance?\n",
        "\n",
        "C. Build model_4 which uses the same architecture from the MNIST network. Does that work better?\n",
        "\n",
        "D. Build model_5 which adds to the structure of model_1-- either by adding more convolution layers or Maxpool layers.   Intel suggests trying the architecture: \n",
        "\n",
        "Conv -> Conv -> MaxPool -> Conv -> Conv -> MaxPool -> (Flatten) -> Dense -> Final Classification\n",
        "\n",
        "instead of:\n",
        "\n",
        "Conv -> Conv -> MaxPool -> (Flatten) -> Dense -> Final Classification\n",
        "\n",
        "If you do this, you will likely need to lower the stride to 1 as otherwise the layers are not big enough in this dataset!\n",
        "\n",
        "Please run the network that worked the best for more than 10 epochs and see how good you get!\n",
        "\n",
        "Hint:  Feel free to work on different colab notebooks in parallel (Google doesn't care until around 5 at the same time) and / or run the code on your computer and then paste it back to Colab when you are done (the code works faster on my computer than in Colab but everyone's computer is different).\n",
        "\n",
        "Your grade is based on the following:\n",
        "\n",
        "80 points for correctly doing all questions and documenting your solution including the answers to the my questions.\n",
        "\n",
        "5 points for breaking 65% accuracy in your best model\n",
        "\n",
        "10 points for breaking 70% accuracy in your best model\n",
        "\n",
        "3 points for breaking 72% accuracy in your best model\n",
        "\n",
        "2 points for breaking 75% accuracy in your best model"
      ]
    }
  ]
}